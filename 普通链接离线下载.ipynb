{
  "nbformat": 4,
  "nbformat_minor": 0,
  "metadata": {
    "colab": {
      "name": "普通链接离线下载.ipynb",
      "provenance": [],
      "collapsed_sections": [],
      "include_colab_link": true
    },
    "kernelspec": {
      "name": "python3",
      "display_name": "Python 3"
    }
  },
  "cells": [
    {
      "cell_type": "markdown",
      "metadata": {
        "id": "view-in-github",
        "colab_type": "text"
      },
      "source": [
        "<a href=\"https://colab.research.google.com/github/ke-xi/-/blob/master/%E6%99%AE%E9%80%9A%E9%93%BE%E6%8E%A5%E7%A6%BB%E7%BA%BF%E4%B8%8B%E8%BD%BD.ipynb\" target=\"_parent\"><img src=\"https://colab.research.google.com/assets/colab-badge.svg\" alt=\"Open In Colab\"/></a>"
      ]
    },
    {
      "cell_type": "markdown",
      "metadata": {
        "id": "GTXTgHQYNNGi"
      },
      "source": [
        "# 1- Install Drive"
      ]
    },
    {
      "cell_type": "code",
      "metadata": {
        "id": "aDbw0aZAN0RL"
      },
      "source": [
        "from google.colab import drive\n",
        "drive.mount('/content/drive')"
      ],
      "execution_count": null,
      "outputs": []
    },
    {
      "cell_type": "markdown",
      "metadata": {
        "id": "u9BGARG5N3oU"
      },
      "source": [
        "# 2- Install Dependency Library"
      ]
    },
    {
      "cell_type": "code",
      "metadata": {
        "id": "oXOZlT5tM-jr"
      },
      "source": [
        "!sudo apt install uget aria2"
      ],
      "execution_count": null,
      "outputs": []
    },
    {
      "cell_type": "markdown",
      "metadata": {
        "id": "4ShhrnvTR2kP"
      },
      "source": [
        "**aria2c Help command**"
      ]
    },
    {
      "cell_type": "code",
      "metadata": {
        "id": "KmmZjUpYPXoH"
      },
      "source": [
        "!aria2c -h"
      ],
      "execution_count": null,
      "outputs": []
    },
    {
      "cell_type": "markdown",
      "metadata": {
        "id": "JHcQIsQbR2i5"
      },
      "source": [
        ""
      ]
    },
    {
      "cell_type": "markdown",
      "metadata": {
        "id": "bCWFmaTdOIvR"
      },
      "source": [
        "# 3- Download torrent"
      ]
    },
    {
      "cell_type": "markdown",
      "metadata": {
        "id": "NqJ4AKztOk1q"
      },
      "source": [
        "**3.1- Change Directory to your save-path**"
      ]
    },
    {
      "cell_type": "code",
      "metadata": {
        "id": "IyKWOSVKOJnj"
      },
      "source": [
        "# for Simple Drive\n",
        "%cd '/content/drive/My Drive' \n",
        "\n",
        "# for Team Drive if existe\n",
        "# %cd '/content/drive/Shared drives/your_team_drive/' "
      ],
      "execution_count": null,
      "outputs": []
    },
    {
      "cell_type": "markdown",
      "metadata": {
        "id": "NbXyYvBGO8xp"
      },
      "source": [
        "**3.2- Download torrent**"
      ]
    },
    {
      "cell_type": "code",
      "metadata": {
        "id": "FEWAvkkSOawN"
      },
      "source": [
        "#--seed-time=0 if no seed\n",
        "!aria2c --seed-time=0 -Z ''"
      ],
      "execution_count": null,
      "outputs": []
    }
  ]
}