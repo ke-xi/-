{
  "nbformat": 4,
  "nbformat_minor": 0,
  "metadata": {
    "colab": {
      "name": "谷歌百宝箱.ipynb",
      "provenance": [],
      "include_colab_link": true
    },
    "kernelspec": {
      "name": "python3",
      "display_name": "Python 3"
    }
  },
  "cells": [
    {
      "cell_type": "markdown",
      "metadata": {
        "id": "view-in-github",
        "colab_type": "text"
      },
      "source": [
        "<a href=\"https://colab.research.google.com/github/ke-xi/-/blob/master/%E8%B0%B7%E6%AD%8C%E7%99%BE%E5%AE%9D%E7%AE%B1.ipynb\" target=\"_parent\"><img src=\"https://colab.research.google.com/assets/colab-badge.svg\" alt=\"Open In Colab\"/></a>"
      ]
    },
    {
      "cell_type": "markdown",
      "metadata": {
        "id": "ICXqpDfanEX-"
      },
      "source": [
        "### <font size=5px color=\"#95C7AE\">第一次使用必读:</font>\n",
        "<p><font size=3px color=\"#95C7AE\">第一次使用请将SA的 json文件放在 <b>sa</b>  文件夹下，并将文件夹上传至你下面将要挂载的网盘的根目录。之后先运行页面最下方的打包sa文件夹命令，因此命令只需运行一次，故放在最下方</font>\n",
        "\n",
        "\n",
        "（如果你使用过gclone. Autoclone, FolderClone可以在相应的account文件夹下发现他们,如果从未使用过，请根据原作者GitHub的介绍生成）\n",
        "\n",
        "<p><font size=3px >本Colab基于iwestlin大佬的谷歌百宝箱制作而成，并作了相应修改使其适合在Colab上运行，原项目地址：https://github.com/iwestlin/gd-utils.\n"
      ]
    },
    {
      "cell_type": "code",
      "metadata": {
        "id": "VoQCd8Mnpp9q",
        "cellView": "form",
        "outputId": "c6736101-0f8e-4f75-be7c-a1af4aa86c32",
        "colab": {
          "base_uri": "https://localhost:8080/",
          "height": 645
        }
      },
      "source": [
        "#@markdown <h3>← 运行只需点击此处，下同\n",
        "#@markdown <br><left><img src='https://upload.wikimedia.org/wikipedia/commons/thumb/d/da/Google_Drive_logo.png/600px-Google_Drive_logo.png' height=\"50\" alt=\"Gdrive-logo\"/></left>\n",
        "#@markdown <h2>挂载谷歌云盘，并安装gd-utils\n",
        "#@markdown <h3>此处需要挂载的云盘只需存有sa.zip文件，不必与转存盘有关联\n",
        "from google.colab import drive\n",
        "from IPython.display import clear_output\n",
        "\n",
        "drive.mount('/content/drive')\n",
        "\n",
        "clear_output()\n",
        "print(\"开始安装gd-utils\")\n",
        "\n",
        "!curl -sL https://deb.nodesource.com/setup_14.x | sudo -E bash -\n",
        "clear_output()\n",
        "!sudo apt-get install -y nodejs\n",
        "clear_output()\n",
        "!git clone https://github.com/iErics/gd-utils\n",
        "clear_output()\n",
        "%cd /content/gd-utils\n",
        "!npm install --unsafe-perm=true --allow-root\n",
        "\n",
        "clear_output()\n",
        "print(\"安装成功，开始配置sa文件夹\")\n",
        "\n",
        "%cp /content/drive/\"My Drive\"/sa.zip /content/gd-utils\n",
        "!unzip -o -q /content/gd-utils/sa.zip -d /content/gd-utils\n",
        "\n",
        "clear_output()\n",
        "print(\"配置完成\")\n",
        "\n"
      ],
      "execution_count": null,
      "outputs": [
        {
          "output_type": "stream",
          "text": [
            "/content/gd-utils\n",
            "\u001b[K\u001b[?25h\n",
            "> better-sqlite3@7.1.0 install /content/gd-utils/node_modules/better-sqlite3\n",
            "> prebuild-install || npm run build-release\n",
            "\n",
            "\u001b[37;40mprebuild-install\u001b[0m \u001b[0m\u001b[30;43mWARN\u001b[0m \u001b[0m\u001b[35minstall\u001b[0m No prebuilt binaries found (target=14.10.1 runtime=node arch=x64 libc= platform=linux)\n",
            "\u001b[0m\n",
            "> better-sqlite3@7.1.0 build-release /content/gd-utils/node_modules/better-sqlite3\n",
            "> node-gyp rebuild --release\n",
            "\n",
            "make: Entering directory '/content/gd-utils/node_modules/better-sqlite3/build'\n",
            "  TOUCH b857c92884e9598d609f6be182a2595df7a8e00f.intermediate\n",
            "  ACTION deps_sqlite3_gyp_locate_sqlite3_target_extract_sqlite3 b857c92884e9598d609f6be182a2595df7a8e00f.intermediate\n",
            "  TOUCH Release/obj.target/deps/locate_sqlite3.stamp\n",
            "  CC(target) Release/obj.target/sqlite3/gen/sqlite3/sqlite3.o\n"
          ],
          "name": "stdout"
        }
      ]
    },
    {
      "cell_type": "code",
      "metadata": {
        "id": "GIuVg9Q7yAta",
        "cellView": "form"
      },
      "source": [
        "#@markdown <h3>搬运区</h3>\n",
        "source = \"\" #@param {type:\"string\"}\n",
        "destination = \"\" #@param {type:\"string\"}\n",
        "\n",
        "\n",
        "print(\"-------我要开动了，GKD-------\\n-------初音祈祷中....\\n\")\n",
        "\n",
        "#!multifolderclone -s \"$source\" -d \"$destination\"\n",
        "\n",
        "!node --max-old-space-size=4096 copy \"$source\" \"$destination\"  -S\n",
        "\n",
        "\n",
        "print(\"\\n----------复制完成----------\\n\")"
      ],
      "execution_count": null,
      "outputs": []
    },
    {
      "cell_type": "code",
      "metadata": {
        "id": "uVWTQI9bZjaF",
        "cellView": "form",
        "outputId": "1a904ad6-9399-4a45-9b90-2d1ff4c3d3f4",
        "colab": {
          "base_uri": "https://localhost:8080/",
          "height": 1000
        }
      },
      "source": [
        "#@markdown <h3>统计区</h3>\n",
        "#@markdown <h4>Options 为附加命令，如常用的 -u 表示强制从线上获取信息(无视是否存在本地缓存)，可不填。</h4>\n",
        "FolderID = \"1Hdg1uXrJHlBoMQPidYsmQA4higlz798Z\" #@param {type:\"string\"}\n",
        "Options = \"-u\" #@param {type:\"string\"}\n",
        "\n",
        "\n",
        "\n",
        "\n",
        "\n",
        "print(\"-------我要开动了，GKD-------\\n-------初音祈祷中....\\n\")\n",
        "\n",
        "#!multifolderclone -s \"$source\" -d \"$destination\"\n",
        "\n",
        "!node --max-old-space-size=4096 count \"$FolderID\" \"$Options:\" -S\n",
        "\n",
        "\n",
        "print(\"\\n----------统计完成----------\\n\")"
      ],
      "execution_count": null,
      "outputs": [
        {
          "output_type": "stream",
          "text": [
            "-------我要开动了，GKD-------\n",
            "-------初音祈祷中....\n",
            "\n",
            "\u001b[1G19:14:10 | 已获取对象 462 | 网络请求 进行中20/排队中184\n",
            " SA获取access_token失败： Unexpected end of JSON input\n",
            "\u001b[1G19:14:13 | 已获取对象 763 | 网络请求 进行中16/排队中0\n",
            " \n",
            "信息获取完毕\n",
            "所有目录读取完毕\n",
            "\u001b[90m┌────────\u001b[39m\u001b[90m┬───────\u001b[39m\u001b[90m┬───────────┐\u001b[39m\n",
            "\u001b[90m│\u001b[39m  \u001b[1m\u001b[94mType\u001b[39m\u001b[22m  \u001b[90m│\u001b[39m \u001b[1m\u001b[94mCount\u001b[39m\u001b[22m \u001b[90m│\u001b[39m   \u001b[1m\u001b[94mSize\u001b[39m\u001b[22m    \u001b[90m│\u001b[39m\n",
            "\u001b[90m├────────\u001b[39m\u001b[90m┼───────\u001b[39m\u001b[90m┼───────────┤\u001b[39m\n",
            "\u001b[90m│\u001b[39m  mp4   \u001b[90m│\u001b[39m  434  \u001b[90m│\u001b[39m 321.03 GB \u001b[90m│\u001b[39m\n",
            "\u001b[90m├────────\u001b[39m\u001b[90m┼───────\u001b[39m\u001b[90m┼───────────┤\u001b[39m\n",
            "\u001b[90m│\u001b[39m  url   \u001b[90m│\u001b[39m  76   \u001b[90m│\u001b[39m  8.91 KB  \u001b[90m│\u001b[39m\n",
            "\u001b[90m├────────\u001b[39m\u001b[90m┼───────\u001b[39m\u001b[90m┼───────────┤\u001b[39m\n",
            "\u001b[90m│\u001b[39m  jpg   \u001b[90m│\u001b[39m   2   \u001b[90m│\u001b[39m 354.82 KB \u001b[90m│\u001b[39m\n",
            "\u001b[90m├────────\u001b[39m\u001b[90m┼───────\u001b[39m\u001b[90m┼───────────┤\u001b[39m\n",
            "\u001b[90m│\u001b[39m 文件夹 \u001b[90m│\u001b[39m  298  \u001b[90m│\u001b[39m     0     \u001b[90m│\u001b[39m\n",
            "\u001b[90m├────────\u001b[39m\u001b[90m┼───────\u001b[39m\u001b[90m┼───────────┤\u001b[39m\n",
            "\u001b[90m│\u001b[39m  \u001b[1m总计\u001b[22m  \u001b[90m│\u001b[39m  \u001b[1m810\u001b[22m  \u001b[90m│\u001b[39m \u001b[1m321.03 GB\u001b[22m \u001b[90m│\u001b[39m\n",
            "\u001b[90m└────────\u001b[39m\u001b[90m┴───────\u001b[39m\u001b[90m┴───────────┘\u001b[39m\n",
            "\n",
            "\n",
            "----------统计完成----------\n",
            "\n"
          ],
          "name": "stdout"
        }
      ]
    },
    {
      "cell_type": "code",
      "metadata": {
        "id": "dRaSe6ujk2RK",
        "cellView": "form"
      },
      "source": [
        "#@markdown <h3>查看复制命令帮助信息</h3>\n",
        "!./copy -h"
      ],
      "execution_count": null,
      "outputs": []
    },
    {
      "cell_type": "code",
      "metadata": {
        "id": "xMtlQIu51GGT",
        "cellView": "form"
      },
      "source": [
        "#@markdown <h3>查看统计命令帮助信息</h3>\n",
        "!./count -h"
      ],
      "execution_count": null,
      "outputs": []
    },
    {
      "cell_type": "code",
      "metadata": {
        "id": "lV2AFyDzReeE",
        "cellView": "form"
      },
      "source": [
        "#@markdown <h3>打包sa文件夹请看向这里</h3>\n",
        "MODE = \"ZIP\"\n",
        "FILENAME = \"sa.zip\" \n",
        "PATH_TO_FILE = \"/content/drive/My Drive/sa\"\n",
        "ARCHIVE_PASSWORD = \"\"\n",
        "compress = 1\n",
        "from pathlib import PurePosixPath\n",
        "from IPython.display import clear_output\n",
        "from google.colab import drive\n",
        "drive.mount('/content/drive')\n",
        "\n",
        "pathList = PATH_TO_FILE.split('|')\n",
        "if MODE == \"ZIP\":\n",
        "    if not FILENAME:\n",
        "      FILENAME = \"/content/NEW_FILE.ZIP\"\n",
        "    if ARCHIVE_PASSWORD:\n",
        "      passADD = f'--password \"{ARCHIVE_PASSWORD}\"'\n",
        "    else:\n",
        "      passADD = ''\n",
        "    for part in pathList:\n",
        "      pathdic = PurePosixPath(part.strip())\n",
        "      parent = pathdic.parent\n",
        "      partName = pathdic.parts[-1]\n",
        "      cmd = f'cd \"{parent}\" && zip {passADD} -{compress} -v -r -u \"{FILENAME}\" \"{partName}\"'\n",
        "      !$cmd\n",
        "clear_output()\n",
        "print(\"\\n----------打包成功----------\\n\")"
      ],
      "execution_count": null,
      "outputs": []
    }
  ]
}