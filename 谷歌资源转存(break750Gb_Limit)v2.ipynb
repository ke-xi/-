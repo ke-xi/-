{
  "nbformat": 4,
  "nbformat_minor": 0,
  "metadata": {
    "colab": {
      "name": "谷歌资源转存(break750Gb_Limit)v2.ipynb",
      "provenance": [],
      "collapsed_sections": [],
      "include_colab_link": true
    },
    "kernelspec": {
      "name": "python3",
      "display_name": "Python 3"
    }
  },
  "cells": [
    {
      "cell_type": "markdown",
      "metadata": {
        "id": "view-in-github",
        "colab_type": "text"
      },
      "source": [
        "<a href=\"https://colab.research.google.com/github/ke-xi/-/blob/master/%E8%B0%B7%E6%AD%8C%E8%B5%84%E6%BA%90%E8%BD%AC%E5%AD%98(break750Gb_Limit)v2.ipynb\" target=\"_parent\"><img src=\"https://colab.research.google.com/assets/colab-badge.svg\" alt=\"Open In Colab\"/></a>"
      ]
    },
    {
      "cell_type": "markdown",
      "metadata": {
        "id": "V2w7tWhPhbTB"
      },
      "source": [
        "<a href=\"https://github.com/totalleecher/Codemaster\">\n",
        "<img src=\"https://lh3.googleusercontent.com/1pw-tHjrkmMgnr63nxOQStYnpVkieXKP9-1RafDRtHBAQ65cN7GcsNKf4k0rWsB--W8d\" height=100px, align=\"left\"></a>\n",
        "\n",
        "\n",
        "\n",
        "\n",
        "\n",
        "\n",
        "\n",
        "\n",
        "\n",
        "\n",
        "\n",
        "<center><h3>Modified by Eric Li</h1><h1>人人发资源` 专用 <b>傻瓜式一步步操作</b>突破 750Gb 限制"
      ]
    },
    {
      "cell_type": "markdown",
      "metadata": {
        "id": "Cqy3vXXOMI06"
      },
      "source": [
        "### <font size=5px color=\"red\">✦ *Google Colab 突破90分钟自动断开:</font>\n",
        "<p><font size=3px > 每60分钟自动运行代码以刷新90分钟断开限制. 打开 developer-settings (在你的浏览器) 快速健 Ctrl+Shift+I 然后按console 输入以下代码 Enter. ( mac 按 Option+Command+I)</p><b>复制以下隐藏代码粉贴在浏览器console！！不要关闭浏览器以免失效</b>"
      ]
    },
    {
      "cell_type": "markdown",
      "metadata": {
        "id": "3Z8cK8h2Avbv"
      },
      "source": [
        "<code>function ClickConnect(){\n",
        "console.log(\"Working\"); \n",
        "document.querySelector(\"colab-connect-button\").click() \n",
        "}setInterval(ClickConnect,6000)</code>"
      ]
    },
    {
      "cell_type": "code",
      "metadata": {
        "id": "jtClEMAMLVHw",
        "outputId": "0ec047ba-c129-40dc-aaea-7be4f08148c3",
        "colab": {
          "base_uri": "https://localhost:8080/",
          "height": 34
        }
      },
      "source": [
        "#@markdown <h3>← 输入了代码后运行以防止断开</h>\n",
        "\n",
        "\n",
        "import IPython\n",
        "from google.colab import output\n",
        "\n",
        "display(IPython.display.Javascript('''\n",
        " function ClickConnect(){\n",
        "   btn = document.querySelector(\"colab-connect-button\")\n",
        "   if (btn != null){\n",
        "     console.log(\"Click colab-connect-button\"); \n",
        "     btn.click() \n",
        "     }\n",
        "   \n",
        "   btn = document.getElementById('ok')\n",
        "   if (btn != null){\n",
        "     console.log(\"Click reconnect\"); \n",
        "     btn.click() \n",
        "     }\n",
        "  }\n",
        "  \n",
        "setInterval(ClickConnect,60000)\n",
        "'''))\n",
        "\n",
        "print(\"Done.\")"
      ],
      "execution_count": null,
      "outputs": [
        {
          "output_type": "display_data",
          "data": {
            "application/javascript": [
              "\n",
              " function ClickConnect(){\n",
              "   btn = document.querySelector(\"colab-connect-button\")\n",
              "   if (btn != null){\n",
              "     console.log(\"Click colab-connect-button\"); \n",
              "     btn.click() \n",
              "     }\n",
              "   \n",
              "   btn = document.getElementById('ok')\n",
              "   if (btn != null){\n",
              "     console.log(\"Click reconnect\"); \n",
              "     btn.click() \n",
              "     }\n",
              "  }\n",
              "  \n",
              "setInterval(ClickConnect,60000)\n"
            ],
            "text/plain": [
              "<IPython.core.display.Javascript object>"
            ]
          },
          "metadata": {
            "tags": []
          }
        },
        {
          "output_type": "stream",
          "text": [
            "Done.\n"
          ],
          "name": "stdout"
        }
      ]
    },
    {
      "cell_type": "markdown",
      "metadata": {
        "id": "nnK31oX-jC5p"
      },
      "source": [
        "### <img src='https://rclone.org/img/rclone-32x32.png' height=\"46\" alt=\"rclone\"/>__Autorclone__\n",
        "<font size=3px><b> ✧  谷歌突破 750GB 限制</h6>\n"
      ]
    },
    {
      "cell_type": "code",
      "metadata": {
        "cellView": "form",
        "id": "W61wx2ZLjC52"
      },
      "source": [
        "#@markdown <h3><b>←</b> 第一步。 安装rclone配置环境</h3>\n",
        " \n",
        "!curl https://rclone.org/install.sh | sudo bash\n",
        "###\n",
        "%cd /content/\n",
        "!git clone https://github.com/totalleecher/AutoRclone.git\n",
        "###\n",
        "%cd /content/AutoRclone\n",
        "!sudo pip3 install -r requirements.txt\n",
        " \n",
        "from IPython.display import HTML, clear_output\n",
        "clear_output()\n",
        "print(\"Successfully Installed\")"
      ],
      "execution_count": null,
      "outputs": []
    },
    {
      "cell_type": "code",
      "metadata": {
        "cellView": "form",
        "id": "XbcSRo0RjC6P"
      },
      "source": [
        "#@markdown <h3><b>←</b>第二步。 启动 Drive Api & 下载 credentials.json到本机</h3>\n",
        "!python3 gen_sa_accounts.py --quick-setup -1\n",
        " \n",
        "from IPython.display import Image, display\n",
        "display(Image(url = \"https://raw.githubusercontent.com/totalleecher/Codemaster/master/Screenshot_2020-03-24%20Python%20Quickstart%20Google%20Drive%20API%20Google%20Developers.png\"))"
      ],
      "execution_count": null,
      "outputs": []
    },
    {
      "cell_type": "code",
      "metadata": {
        "cellView": "form",
        "id": "N8fETzRpjC6s"
      },
      "source": [
        "#@markdown <h3><b>←</b>第三步。 把刚刚下载的 \"credentials.json\"上传</h3>\n",
        "\n",
        "from google.colab import files\n",
        "uploaded = files.upload()"
      ],
      "execution_count": null,
      "outputs": []
    },
    {
      "cell_type": "code",
      "metadata": {
        "cellView": "form",
        "id": "LMoXkToAjC69"
      },
      "source": [
        "#@markdown <h3><b>←</b>第四步。 在已有项目上生成Service Accounts  \"如果你已经有SA可以略过\"</h3>\n",
        "\n",
        "!python3 gen_sa_accounts.py --quick-setup -1"
      ],
      "execution_count": null,
      "outputs": []
    },
    {
      "cell_type": "markdown",
      "metadata": {
        "id": "vGIC3QKIIpfb"
      },
      "source": [
        "<font size=\"4\" color=red><b>如果第四步一直出错有可能你还没有任何project按这里打开<a href=\"https://console.developers.google.com/\" target=\"_blank\">Google Cloud Platform</a> ，在左上角 GoogleAPIs 旁边按 Select a project 在弹出来的窗口右上角按 NEW PROJECT. 然后按 CREATE. 在倒回去运行第四步。</b></font>"
      ]
    },
    {
      "cell_type": "markdown",
      "metadata": {
        "id": "eplOxOmrjC7R"
      },
      "source": [
        "### 方法1 (把 Services Acc 加到 **Team Drive**)"
      ]
    },
    {
      "cell_type": "code",
      "metadata": {
        "cellView": "form",
        "id": "_-MmxPYFjC7W"
      },
      "source": [
        "#@markdown <h3><b>← 运行把所有SA 加到 Team Drive</b></h3>\n",
        "#@markdown </h5>团队盘 ID (TDid) = https://drive.google.com/drive/folders/之后所有的字母</code></h5>\n",
        "#@markdown <h5><b>请耐心等待增加 SA 会消耗一点时间</b></h5> \n",
        "import os\n",
        "TDid = \"0ABR3jo_DnGDcUk9PVA\" #@param {type:\"string\"}\n",
        "!python3 add_to_team_drive.py -d \"$TDid\""
      ],
      "execution_count": null,
      "outputs": []
    },
    {
      "cell_type": "markdown",
      "metadata": {
        "id": "XCiA0yRMxM5T"
      },
      "source": [
        "### **<font size=5px color=bule><<<<<<<<<<<<<<<<<<<<准备就绪开始拷贝>>>>>>>>>>>>>>>>>>>>**"
      ]
    },
    {
      "cell_type": "code",
      "metadata": {
        "cellView": "form",
        "id": "ItewOXbSjC7r"
      },
      "source": [
        "#@markdown <p>- <b>增加要拷贝的源 ID （分享的资源） 和 转存的文件夹 ID （一般是自己的团队盘）</p>\n",
        "#@markdown <p>- 注意: 你的源文件 ID*** *(*`src`*)* ***文件夹或文件要公开分享的***</p>\n",
        "\n",
        "#@markdown <b>- 分享的文件夹 ID 如图下 folder/后面的字符: 只是粉贴后面的字符</b>\n",
        "#@markdown ![](https://yuju.pw/y/qNvy.png)\n",
        "\n",
        "#@title <h3><b>←</b> Run to clone all folders + files from <code>src</code> to <code>dest</code>\n",
        "\n",
        "source = \"11bQwcJLPgBhYv1aVsPrSow8S3cUuZsBW\" #@param {type:\"string\"}\n",
        "destination = \"1U2B0HC6pDzBQhXiBWAbvkF-FiVITijrj\" #@param {type:\"string\"}\n",
        "sa = \"1\" #@param {type:\"string\"}\n",
        "\n",
        "!python3 rclone_sa_magic.py -s \"$source\" -d \"$destination\" -b \"$sa\" -e 600\n",
        "\n",
        "#@markdown <b>- sa 起始默认1如果你已经拷贝了7.5T了，那么24小时里面应该放 11 一个SA 750GB."
      ],
      "execution_count": null,
      "outputs": []
    },
    {
      "cell_type": "markdown",
      "metadata": {
        "id": "NKQKbbO5jC8f"
      },
      "source": [
        "### 附加功能 (检查资源大小和数量)"
      ]
    },
    {
      "cell_type": "code",
      "metadata": {
        "cellView": "form",
        "id": "XWWAn0uujC8j"
      },
      "source": [
        "#@markdown <h4><b>←</b> 源文件的大小</h3> \n",
        "!rclone --config rclone.conf size --disable ListR src001:"
      ],
      "execution_count": null,
      "outputs": []
    },
    {
      "cell_type": "code",
      "metadata": {
        "cellView": "form",
        "id": "LsChZJ2FjC8y"
      },
      "source": [
        "#@markdown <h4><b>←</b> 转存后的目标文件大小</h3> \n",
        "!rclone --config rclone.conf size --disable ListR src001:"
      ],
      "execution_count": null,
      "outputs": []
    },
    {
      "cell_type": "code",
      "metadata": {
        "cellView": "form",
        "id": "bNcxDO0AMSkk"
      },
      "source": [
        "#@markdown <h4><b>←</b> 转存后的目标文件去重</h3> \n",
        "!rclone --config rclone.conf dedupe dst001:"
      ],
      "execution_count": null,
      "outputs": []
    },
    {
      "cell_type": "markdown",
      "metadata": {
        "id": "Z-0L1Mousoom"
      },
      "source": [
        "###<font size=4 color=\"red\"><b>当你拷贝好了关了colab google,下次在运行时只需要步骤1配置环境,3(之前下载好的credentials.json导入）再到<a href=\"https://console.developers.google.com/\" target=\"_blank\">Google Cloud Platform</a>复制下project id 粉贴到下面的project id 把Services Account导入到配置环境就可以开始拷贝了</b></font>"
      ]
    },
    {
      "cell_type": "code",
      "metadata": {
        "id": "waf_p3KUre00",
        "cellView": "form"
      },
      "source": [
        "#@markdown <h3>←输入project id 如图下然后运行 \n",
        " \n",
        "#@markdown ![](https://i.imgur.com/6kdw2u9.jpg)\n",
        " \n",
        " \n",
        "#@markdown <h4><b>只是粉贴project id:</b>\n",
        " \n",
        "projectid = \"quickstart-1592963869866\" #@param {type:\"string\"}\n",
        "!python3 gen_sa_accounts.py --download-keys \"$projectid\""
      ],
      "execution_count": null,
      "outputs": []
    }
  ]
}